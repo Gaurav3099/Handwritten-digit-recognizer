{
 "cells": [
  {
   "cell_type": "code",
   "execution_count": 1,
   "metadata": {
    "colab": {
     "base_uri": "https://localhost:8080/",
     "height": 904
    },
    "colab_type": "code",
    "executionInfo": {
     "elapsed": 10927,
     "status": "ok",
     "timestamp": 1595697607776,
     "user": {
      "displayName": "Gaurav Sarkar",
      "photoUrl": "",
      "userId": "16355167828900528259"
     },
     "user_tz": -330
    },
    "id": "qInxFAkj_DJZ",
    "outputId": "39ea8328-7512-4dea-da10-4bbfc434ad2f"
   },
   "outputs": [
    {
     "name": "stderr",
     "output_type": "stream",
     "text": [
      "C:\\Users\\Gaurav\\anaconda3\\envs\\py3-TF2.0\\lib\\site-packages\\ipykernel\\parentpoller.py:116: UserWarning: Parent poll failed.  If the frontend dies,\n",
      "                the kernel may be left running.  Please let us know\n",
      "                about your system (bitness, Python, etc.) at\n",
      "                ipython-dev@scipy.org\n",
      "  ipython-dev@scipy.org\"\"\")\n"
     ]
    }
   ],
   "source": [
    "#pip install gradio"
   ]
  },
  {
   "cell_type": "code",
   "execution_count": 1,
   "metadata": {
    "colab": {},
    "colab_type": "code",
    "id": "0L_ndQH5_QkR"
   },
   "outputs": [
    {
     "name": "stderr",
     "output_type": "stream",
     "text": [
      "C:\\Users\\Gaurav\\anaconda3\\envs\\py3-TF2.0\\lib\\site-packages\\ipykernel\\parentpoller.py:116: UserWarning: Parent poll failed.  If the frontend dies,\n",
      "                the kernel may be left running.  Please let us know\n",
      "                about your system (bitness, Python, etc.) at\n",
      "                ipython-dev@scipy.org\n",
      "  ipython-dev@scipy.org\"\"\")\n"
     ]
    }
   ],
   "source": [
    "import tensorflow as tf\n",
    "import gradio as gr"
   ]
  },
  {
   "cell_type": "code",
   "execution_count": 2,
   "metadata": {
    "colab": {
     "base_uri": "https://localhost:8080/",
     "height": 35
    },
    "colab_type": "code",
    "executionInfo": {
     "elapsed": 1323,
     "status": "ok",
     "timestamp": 1595697652351,
     "user": {
      "displayName": "Gaurav Sarkar",
      "photoUrl": "",
      "userId": "16355167828900528259"
     },
     "user_tz": -330
    },
    "id": "iBT6iMks_ZIW",
    "outputId": "febcd92c-f590-4a6f-8e22-b16332ee1dfc"
   },
   "outputs": [
    {
     "data": {
      "text/plain": [
       "'2.0.0'"
      ]
     },
     "execution_count": 2,
     "metadata": {},
     "output_type": "execute_result"
    }
   ],
   "source": [
    "tf.__version__"
   ]
  },
  {
   "cell_type": "code",
   "execution_count": 3,
   "metadata": {
    "colab": {
     "base_uri": "https://localhost:8080/",
     "height": 51
    },
    "colab_type": "code",
    "executionInfo": {
     "elapsed": 3532,
     "status": "ok",
     "timestamp": 1595699028617,
     "user": {
      "displayName": "Gaurav Sarkar",
      "photoUrl": "",
      "userId": "16355167828900528259"
     },
     "user_tz": -330
    },
    "id": "qrgO30Mi_cK_",
    "outputId": "8d5b0473-a5c4-49d4-ca4d-6cda1472b2f0"
   },
   "outputs": [],
   "source": [
    "(x_train, y_train), (x_test, y_test) = tf.keras.datasets.mnist.load_data()"
   ]
  },
  {
   "cell_type": "code",
   "execution_count": 4,
   "metadata": {
    "colab": {},
    "colab_type": "code",
    "executionInfo": {
     "elapsed": 1086,
     "status": "ok",
     "timestamp": 1595699087513,
     "user": {
      "displayName": "Gaurav Sarkar",
      "photoUrl": "",
      "userId": "16355167828900528259"
     },
     "user_tz": -330
    },
    "id": "gTeaaUzsEoyN"
   },
   "outputs": [],
   "source": [
    "x_train = x_train/255.0\n",
    "x_test = x_test/255.0"
   ]
  },
  {
   "cell_type": "code",
   "execution_count": 5,
   "metadata": {
    "colab": {},
    "colab_type": "code",
    "executionInfo": {
     "elapsed": 1142,
     "status": "ok",
     "timestamp": 1595699234128,
     "user": {
      "displayName": "Gaurav Sarkar",
      "photoUrl": "",
      "userId": "16355167828900528259"
     },
     "user_tz": -330
    },
    "id": "i4Bk1YAhE8OZ"
   },
   "outputs": [],
   "source": [
    "model = tf.keras.models.Sequential([\n",
    "                                    tf.keras.layers.Flatten(input_shape=(28,28)),\n",
    "                                    tf.keras.layers.Dense(128, activation='relu'),\n",
    "                                    tf.keras.layers.Dense(10,activation='softmax')\n",
    "])"
   ]
  },
  {
   "cell_type": "code",
   "execution_count": 6,
   "metadata": {
    "colab": {},
    "colab_type": "code",
    "executionInfo": {
     "elapsed": 1243,
     "status": "ok",
     "timestamp": 1595699292088,
     "user": {
      "displayName": "Gaurav Sarkar",
      "photoUrl": "",
      "userId": "16355167828900528259"
     },
     "user_tz": -330
    },
    "id": "WwV0ohjCFgA-"
   },
   "outputs": [],
   "source": [
    "model.compile(optimizer='adam', loss='sparse_categorical_crossentropy', metrics=['accuracy'])"
   ]
  },
  {
   "cell_type": "code",
   "execution_count": 7,
   "metadata": {
    "colab": {
     "base_uri": "https://localhost:8080/",
     "height": 374
    },
    "colab_type": "code",
    "executionInfo": {
     "elapsed": 41091,
     "status": "ok",
     "timestamp": 1595699390598,
     "user": {
      "displayName": "Gaurav Sarkar",
      "photoUrl": "",
      "userId": "16355167828900528259"
     },
     "user_tz": -330
    },
    "id": "ELqiceqSFuJX",
    "outputId": "ffd710ca-8db0-4888-b9ae-180c558e0ea3"
   },
   "outputs": [
    {
     "name": "stdout",
     "output_type": "stream",
     "text": [
      "Train on 60000 samples, validate on 10000 samples\n",
      "Epoch 1/10\n",
      "60000/60000 [==============================] - 7s 114us/sample - loss: 0.2632 - accuracy: 0.9257 - val_loss: 0.1419 - val_accuracy: 0.9563\n",
      "Epoch 2/10\n",
      "60000/60000 [==============================] - 6s 93us/sample - loss: 0.1135 - accuracy: 0.9671 - val_loss: 0.0940 - val_accuracy: 0.9714\n",
      "Epoch 3/10\n",
      "60000/60000 [==============================] - 6s 92us/sample - loss: 0.0775 - accuracy: 0.9772 - val_loss: 0.0850 - val_accuracy: 0.9732\n",
      "Epoch 4/10\n",
      "60000/60000 [==============================] - 6s 93us/sample - loss: 0.0590 - accuracy: 0.9821 - val_loss: 0.0774 - val_accuracy: 0.9771\n",
      "Epoch 5/10\n",
      "60000/60000 [==============================] - 6s 93us/sample - loss: 0.0442 - accuracy: 0.9862 - val_loss: 0.0756 - val_accuracy: 0.9769\n",
      "Epoch 6/10\n",
      "60000/60000 [==============================] - 6s 93us/sample - loss: 0.0366 - accuracy: 0.9886 - val_loss: 0.0686 - val_accuracy: 0.9794\n",
      "Epoch 7/10\n",
      "60000/60000 [==============================] - 6s 100us/sample - loss: 0.0275 - accuracy: 0.9911 - val_loss: 0.0737 - val_accuracy: 0.9781\n",
      "Epoch 8/10\n",
      "60000/60000 [==============================] - 6s 93us/sample - loss: 0.0228 - accuracy: 0.9932 - val_loss: 0.0728 - val_accuracy: 0.9788\n",
      "Epoch 9/10\n",
      "60000/60000 [==============================] - 6s 93us/sample - loss: 0.0200 - accuracy: 0.9934 - val_loss: 0.0832 - val_accuracy: 0.9777\n",
      "Epoch 10/10\n",
      "60000/60000 [==============================] - 6s 93us/sample - loss: 0.0153 - accuracy: 0.9953 - val_loss: 0.0891 - val_accuracy: 0.9758\n"
     ]
    },
    {
     "data": {
      "text/plain": [
       "<tensorflow.python.keras.callbacks.History at 0x21d5112ce48>"
      ]
     },
     "execution_count": 7,
     "metadata": {},
     "output_type": "execute_result"
    }
   ],
   "source": [
    "model.fit(x_train, y_train, validation_data=(x_test, y_test), epochs=10)"
   ]
  },
  {
   "cell_type": "code",
   "execution_count": 8,
   "metadata": {
    "colab": {
     "base_uri": "https://localhost:8080/",
     "height": 623
    },
    "colab_type": "code",
    "executionInfo": {
     "elapsed": 6929,
     "status": "ok",
     "timestamp": 1595699600808,
     "user": {
      "displayName": "Gaurav Sarkar",
      "photoUrl": "",
      "userId": "16355167828900528259"
     },
     "user_tz": -330
    },
    "id": "ip4rDz7_F8eN",
    "outputId": "882f8ad5-d9c6-4081-b834-3d3abd6e6899"
   },
   "outputs": [
    {
     "name": "stdout",
     "output_type": "stream",
     "text": [
      "Running locally at: http://127.0.0.1:7861/\n"
     ]
    },
    {
     "data": {
      "text/html": [
       "\n",
       "        <iframe\n",
       "            width=\"1000\"\n",
       "            height=\"500\"\n",
       "            src=\"http://127.0.0.1:7861/\"\n",
       "            frameborder=\"0\"\n",
       "            allowfullscreen\n",
       "        ></iframe>\n",
       "        "
      ],
      "text/plain": [
       "<IPython.lib.display.IFrame at 0x21d52a2aec8>"
      ]
     },
     "metadata": {},
     "output_type": "display_data"
    },
    {
     "data": {
      "text/plain": [
       "(<gradio.networking.serve_files_in_background.<locals>.HTTPServer at 0x21d528a7f88>,\n",
       " 'http://127.0.0.1:7861/',\n",
       " None)"
      ]
     },
     "execution_count": 8,
     "metadata": {},
     "output_type": "execute_result"
    }
   ],
   "source": [
    "def classifiy(image):\n",
    "  prediction = model.predict(image).tolist()[0]\n",
    "  return {str(i): prediction[i] for i in range(10)}\n",
    "sketchpad = gr.inputs.Sketchpad()\n",
    "label = gr.outputs.Label(num_top_classes=3)\n",
    "interface = gr.Interface(classifiy, sketchpad, label, live=True, capture_session=True)\n",
    "interface.launch()"
   ]
  },
  {
   "cell_type": "code",
   "execution_count": null,
   "metadata": {
    "colab": {},
    "colab_type": "code",
    "id": "QcujcRHxG4IP"
   },
   "outputs": [],
   "source": []
  }
 ],
 "metadata": {
  "colab": {
   "authorship_tag": "ABX9TyMqncdhpzrNBI/U9iHU8ld9",
   "collapsed_sections": [],
   "name": "HRR.ipynb",
   "provenance": []
  },
  "kernelspec": {
   "display_name": "Python [conda env:py3-TF2.0]",
   "language": "python",
   "name": "conda-env-py3-TF2.0-py"
  },
  "language_info": {
   "codemirror_mode": {
    "name": "ipython",
    "version": 3
   },
   "file_extension": ".py",
   "mimetype": "text/x-python",
   "name": "python",
   "nbconvert_exporter": "python",
   "pygments_lexer": "ipython3",
   "version": "3.7.7"
  }
 },
 "nbformat": 4,
 "nbformat_minor": 1
}
